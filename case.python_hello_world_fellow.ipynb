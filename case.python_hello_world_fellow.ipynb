{
 "cells": [
  {
   "cell_type": "markdown",
   "id": "1549c122",
   "metadata": {},
   "source": [
    "# Your first program!"
   ]
  },
  {
   "cell_type": "markdown",
   "id": "6c160eb7",
   "metadata": {},
   "source": [
    "## Introduction\n",
    "\n",
    "In Case 0.1, you learned what a programming language was and saw your first snippets of code. Now, you are ready to write your very own program!\n",
    "\n",
    "![Hello](data/images/hello.png)\n",
    "\n",
    "In order to do this, we will build what is known as a \"Hello World\" program, which accomplishes the most basic task possible - printing something to the Terminal. Then, we will gradually introduce more concepts like errors, comments, data types, lists, and how to run your programs from outside of a Jupyter notebook."
   ]
  },
  {
   "cell_type": "markdown",
   "id": "3fbe088c",
   "metadata": {},
   "source": [
    "## Building blocks of code\n",
    "\n",
    "At its most basic, all code is composed of four things: **values**, **variables**, **operators**, and **functions**. Every piece of software in history is made up of combinations of these four concepts."
   ]
  },
  {
   "cell_type": "markdown",
   "id": "0a5ed78b",
   "metadata": {},
   "source": [
    "### Values and variables\n",
    "\n",
    "First, we have **values**. A value is simply a piece of data with which we want to do something. The number 5 is a value, for example. Values can be of many types, but the 2 most common are numbers and strings. When a value is text, it is commonly known as being of type *string*. For example, the piece of text \"This is a cool program\" is a string value.\n",
    "\n",
    "Types are important! The string \"5\" is not the same value as the number 5:"
   ]
  },
  {
   "cell_type": "code",
   "execution_count": null,
   "id": "ed898af9",
   "metadata": {},
   "outputs": [],
   "source": [
    "\"5\""
   ]
  },
  {
   "cell_type": "code",
   "execution_count": null,
   "id": "e1c3491a",
   "metadata": {},
   "outputs": [],
   "source": [
    "5"
   ]
  },
  {
   "cell_type": "markdown",
   "id": "085cbab3",
   "metadata": {},
   "source": [
    "Next, we have **variables** - a variable is a little holding box we can use to save a value for later in order to use it in one way or another. Typically, we say that we *assign* a *value* to a *variable*, in order to use that value later on in our program.\n",
    "\n",
    "In the following cell, you can see an example of a variable being assigned a value. The syntax for assigning a value to a variable is simply to place the name of your variable on the left, followed by the **=** sign, followed by the value to be assigned:"
   ]
  },
  {
   "cell_type": "code",
   "execution_count": null,
   "id": "1f4af0db",
   "metadata": {},
   "outputs": [],
   "source": [
    "a = 5"
   ]
  },
  {
   "cell_type": "markdown",
   "id": "4645afe0",
   "metadata": {},
   "source": [
    "Above, we *assigned* the value 5 to the variable `a`. After doing this, we can then use that variable for any purpose. \n",
    "\n",
    "Notice that contrary to other examples of code in Case 0.1, nothing was *printed* below the cell. This is because assigning a variable only stores it to your computer's memory, but in order to show the variable you must tell your computer to do so. The act of assigning the value is distinct from the act of showing the variable itself.\n",
    "\n",
    "One way of doing this is in Jupyter notebooks is to just place the value or variable standalone in a cell, and it will be shown below it after you run it:"
   ]
  },
  {
   "cell_type": "code",
   "execution_count": null,
   "id": "df68da57",
   "metadata": {},
   "outputs": [],
   "source": [
    "a"
   ]
  },
  {
   "cell_type": "markdown",
   "id": "097c179e",
   "metadata": {},
   "source": [
    "### Exercise 1\n",
    "\n",
    "Now, let's practice! You will find the next code cell is empty. In it, assign a numeric value to the variable `b`. It can be any value you want."
   ]
  },
  {
   "cell_type": "code",
   "execution_count": null,
   "id": "85494274",
   "metadata": {},
   "outputs": [],
   "source": [
    "# Replace the number 0 with any other numeric value and press Ctrl+Enter. The value should print below.\n",
    "b = 0\n",
    "b"
   ]
  },
  {
   "cell_type": "markdown",
   "id": "65c2857c",
   "metadata": {},
   "source": [
    "### Functions and operators\n",
    "\n",
    "The next concept is that of **functions**. A function is a piece of code that takes an input and does something with it. During this program, you will learn how to write your own functions, but in the meantime we will use some of the built-in functions from the Python language.\n",
    "\n",
    "A function is composed of 2 parts: its *name* and its *inputs* (also known as its **arguments** or **parameters**). \n",
    "In Python, functions are usually named starting with a lowercase letter. Examples of common functions we will use are `print()`, `type()`, and `len()`, among many others.\n",
    "\n",
    "Remember our variable `a`? If we want to make it visible somewhere without having to place it at the end of our cell, we must use what is probably the most used function in Python - **`print()`**.\n",
    "\n",
    "The `print()` function takes as input basically anything you can imagine, and shows you that input in the Terminal or after the current cell inside a notebook. Let's print our variable `a` together with a little bit of text:"
   ]
  },
  {
   "cell_type": "code",
   "execution_count": null,
   "id": "317f720c",
   "metadata": {},
   "outputs": [],
   "source": [
    "print(a)\n",
    "print('We are now using the print function!')"
   ]
  },
  {
   "cell_type": "markdown",
   "id": "c41d0aa0",
   "metadata": {},
   "source": [
    "Notice that if we remove the `print()` function from the first line of the above snippet and only type `a`, it doesn't work:"
   ]
  },
  {
   "cell_type": "code",
   "execution_count": null,
   "id": "6f1b69c8",
   "metadata": {},
   "outputs": [],
   "source": [
    "a\n",
    "print('We are now using the print function!')"
   ]
  },
  {
   "cell_type": "markdown",
   "id": "c54032be",
   "metadata": {},
   "source": [
    "The `print()` function is very important! Make a habit of printing your intermediate and final results often in order to keep an eye on if your program is working well. The practice of fixing problems with your program is called **debugging**, and often times the `print()` function is your main tool in order to quickly debug both simple and complex problems."
   ]
  },
  {
   "cell_type": "markdown",
   "id": "665ca66b",
   "metadata": {},
   "source": [
    "One last function that you will find useful for your projects is the `input()` function. This allows code to request an input from a user, making your code a little more dynamic (particularly when running python scripts through the Terminal). Let's give it a try:"
   ]
  },
  {
   "cell_type": "code",
   "execution_count": null,
   "id": "24ced21a",
   "metadata": {},
   "outputs": [],
   "source": [
    "a = input(\"What is your name? \")\n",
    "b = input(\"What is your quest? \")\n",
    "c = input(\"What is your favorite color? \")\n",
    "\n",
    "print(\"---------\")\n",
    "\n",
    "print(a)\n",
    "print(\"has the purpose of:\")\n",
    "print(b)\n",
    "print(\"and their favorite color is:\")\n",
    "print(c)"
   ]
  },
  {
   "cell_type": "markdown",
   "id": "b8ad3b59",
   "metadata": {},
   "source": [
    "Finally, we have **operators**. Operators are ways of making values and variables interact with each other. Some common operators are what you may know as **mathematical operators**, such as addition, multiplication, and subtraction, but there are many others. Let's try a couple of the basic mathematical operators:"
   ]
  },
  {
   "cell_type": "code",
   "execution_count": null,
   "id": "70e218eb",
   "metadata": {},
   "outputs": [],
   "source": [
    "a = 15\n",
    "b = 4\n",
    "\n",
    "c = a*2\n",
    "d = a/2\n",
    "e = a+b\n",
    "\n",
    "print(c)\n",
    "print(d)\n",
    "print(e)"
   ]
  },
  {
   "cell_type": "markdown",
   "id": "a559ea1a",
   "metadata": {},
   "source": [
    "You can also add more than just numbers! A quick and easy way of *joining* 2 strings is to just add them together:"
   ]
  },
  {
   "cell_type": "code",
   "execution_count": null,
   "id": "7381b2e1",
   "metadata": {},
   "outputs": [],
   "source": [
    "some_text = 'This is the first part '\n",
    "more_text = 'of a complete sentence.'\n",
    "complete_sentence = some_text + more_text\n",
    "print(complete_sentence)"
   ]
  },
  {
   "cell_type": "markdown",
   "id": "23a77749",
   "metadata": {},
   "source": [
    "Variable names can be almost anything except for select reserved words that Python uses for its internal operations. Additionally, variables cannot start with numbers (but they can have numbers in them) so `a1`, `a456`, and `ind33d` are all valid variables, but `1a`, `456a`, and `3xc3ll3nt` are all invalid.\n",
    "\n",
    "So instead of just `a` or `b`, we can name our variables almost anything we want! It's important to use descriptive variable names so that your code is readable and understandable. The computer doesn't really care what you name your variables, but your colleagues, co-workers, teachers, and anyone else who might read your code sure do!\n",
    "\n",
    "When it comes to multi-word variable names (like one for \"complete sentence\"), it is best practice to separate the words with an underscore (`_`) as using a space (` `) or a dash (`-`) in a variable name causes errors (and `completesentence` isn't easy to read). Some people like to use a convention called camel case where you capitalize the first letter of each word excluding the first (so it creates a bump that looks like one found on a camel). So we would have `completeSentence`. Camel case is common but using underscores is more popular and generally more readable.\n",
    "\n",
    "Notice also that we assigned the variable `complete_sentence` a value that is the result of the operation between two other variables. This is one of the most common ways of assigning values to variables. You don't need to limit the operations to two variables though - you can operate on as many variables as you want in a single line of code."
   ]
  },
  {
   "cell_type": "markdown",
   "id": "cbac2201",
   "metadata": {},
   "source": [
    "### Exercise 2\n",
    "\n",
    "Write a few lines of code that do the following:\n",
    "\n",
    "1. Assigns the value `a*b` to a new variable named `multiplication_result`\n",
    "2. Assigns the value `a**b` to a new variable named `exponential_result`\n",
    "2. Prints each variable using the `print()` function\n",
    "\n",
    "Below you will see the bolded word \"Answer\" followed by a straight horizontal line. For all of our case exercises, you will see this where you're supposed to come up with an answer. Click on the cell with the horizontal line and then press `b` on your keyboard. This will create a new code cell where you can enter your answer!"
   ]
  },
  {
   "cell_type": "markdown",
   "id": "39753b03",
   "metadata": {
    "tags": [
     "ans_st"
    ]
   },
   "source": [
    "**Answer.**"
   ]
  },
  {
   "cell_type": "markdown",
   "id": "694d667c",
   "metadata": {},
   "source": [
    "-------"
   ]
  },
  {
   "cell_type": "markdown",
   "id": "f11048e2",
   "metadata": {},
   "source": [
    "The most important thing about variables is that (as their name implies) they can vary over time. That means you can overwrite their current value with any other value at any time. For example, we first assigned the number 5 to the variable `a`. But following that, we can assign it any new value, after which `a` will forget the value 5 and replace it with the latest value assignment:"
   ]
  },
  {
   "cell_type": "code",
   "execution_count": null,
   "id": "7c8fda52",
   "metadata": {},
   "outputs": [],
   "source": [
    "print(a)\n",
    "\n",
    "a = 'This is another value'\n",
    "print(a)\n",
    "\n",
    "a = 12\n",
    "print(a)"
   ]
  },
  {
   "cell_type": "markdown",
   "id": "3598af7b",
   "metadata": {},
   "source": [
    "## Basics of Python syntax\n",
    "\n",
    "In order to write more complex programs, we must acquaint ourselves with the language we will be using. As explained in Case 0.1, the programming language of choice for data work is Python.\n",
    "\n",
    "Python is very flexible compared to other languages, but as with all programming languages, it has rules that must be followed *perfectly* in order for your computer to understand and execute your commands. As you practice and write more Python code, these rules will become second nature and you won't even need to think about them anymore. We will start with the two main rules, and we will learn the rest as the program progresses:\n",
    "\n",
    "1. Python is case-sensitive\n",
    "2. There should be only a single statement per line of code\n",
    "\n",
    "Simple, no? These 2, along with the other rules you will learn soon, are *strict* rules. That means that they must be obeyed completely in order for your code to be understood by your computer.\n",
    "\n",
    "Here's an example on how Python is case-sensitive. Even though all three variables are named similarly, Python treats them as different because it is case-sensitive:"
   ]
  },
  {
   "cell_type": "code",
   "execution_count": null,
   "id": "5ce6973a",
   "metadata": {},
   "outputs": [],
   "source": [
    "oneVar = 'This variable has one value'\n",
    "onevar = 'And this one has another'\n",
    "oNeVaR = 15 \n",
    "print(oneVar)\n",
    "print(onevar)\n",
    "print(oNeVaR)"
   ]
  },
  {
   "cell_type": "markdown",
   "id": "4d198fe2",
   "metadata": {},
   "source": [
    "Here's an example of how Python demands that only one statement is present in each line of code. Execute the following snippet of code:"
   ]
  },
  {
   "cell_type": "code",
   "execution_count": null,
   "id": "96b44878",
   "metadata": {},
   "outputs": [],
   "source": [
    "print(oneVar) print(onevar) print(oNeVaR)"
   ]
  },
  {
   "cell_type": "markdown",
   "id": "002e221e",
   "metadata": {},
   "source": [
    "You should have gotten an error. Typically, Python is very clear with its error output. The most important part of the error message is the last line, which typically reads \"[SomeError]\" or something similar, followed by a description of what the error means.\n",
    "\n",
    "We will see a couple more types of errors in this case, and in Case 0.7 we will learn the best ways to look for solutions to errors you may not know how to solve. For the moment, we know that this last error was a *syntax* error. Let's try to fix the syntax."
   ]
  },
  {
   "cell_type": "markdown",
   "id": "b6b21396",
   "metadata": {},
   "source": [
    "### Exercise 3\n",
    "\n",
    "Correct the above code so that it no longer gives a syntax error."
   ]
  },
  {
   "cell_type": "markdown",
   "id": "6b9568ff",
   "metadata": {
    "tags": [
     "ans_st"
    ]
   },
   "source": [
    "**Answer.**"
   ]
  },
  {
   "cell_type": "markdown",
   "id": "be12e8ca",
   "metadata": {},
   "source": [
    "-------"
   ]
  },
  {
   "cell_type": "markdown",
   "id": "49caee75",
   "metadata": {},
   "source": [
    "Another way you can do this is by making one `print()` function print several values at once. You can do this by separating the values with commas. All values will be printed sequentially, separated by a space:"
   ]
  },
  {
   "cell_type": "code",
   "execution_count": null,
   "id": "f3265386",
   "metadata": {},
   "outputs": [],
   "source": [
    "print(oneVar, onevar, oNeVaR)"
   ]
  },
  {
   "cell_type": "markdown",
   "id": "554db448",
   "metadata": {},
   "source": [
    "## Hello World!\n",
    "\n",
    "Now that you know the basic building blocks of code and the main rules of the Python language, you are ready to write your first program."
   ]
  },
  {
   "cell_type": "markdown",
   "id": "d98d6660",
   "metadata": {},
   "source": [
    "### Exercise 4\n",
    "\n",
    "In the following code cell, write a program that prints the \"Hello World!\" value using the `print()` function."
   ]
  },
  {
   "cell_type": "markdown",
   "id": "93b2fecf",
   "metadata": {
    "tags": [
     "ans_st"
    ]
   },
   "source": [
    "**Answer.**"
   ]
  },
  {
   "cell_type": "markdown",
   "id": "8f2ea929",
   "metadata": {},
   "source": [
    "-------"
   ]
  },
  {
   "cell_type": "markdown",
   "id": "aca5a826",
   "metadata": {},
   "source": [
    "You should now be seeing \"Hello World!\" below the code cell. Congratulations! You have now officially created your first \"Hello World!\" program. If it seemed very simple, thats because it is! Truth is, Python is a marvelous language and it's particularly good for beginners because its syntax is very understandable and short. In other programming languages, writing a \"Hello World!\" program may have taken 3, 5, or even a dozen lines. But in Python, we can do it in one! "
   ]
  },
  {
   "cell_type": "markdown",
   "id": "0a0fcc0c",
   "metadata": {},
   "source": [
    "## Comments\n",
    "\n",
    "You may have noticed how in some of the previous cells, there was some text that didn't seem to affect the code below it. This text is what is known as a **comment**. A comment is a bit of text that programmers use to describe what a snippet of code does or should do, to leave instructions for someone else (like we do in these cases), or simply to leave notes for future reference.\n",
    "\n",
    "In Python, leaving comments is simple - just start the line with the \"#\" character, and everything after it in that line will not be executed code but just text for someone to read.\n",
    "\n",
    "The most typical use for comments is describing what a snippet of code does. Here's an example:"
   ]
  },
  {
   "cell_type": "code",
   "execution_count": null,
   "id": "0748df27",
   "metadata": {},
   "outputs": [],
   "source": [
    "# This program assigns numerical values to 2 different variables and finds the sum of their squared values\n",
    "x = 8\n",
    "y = 12\n",
    "r = (x**2)+(y**2) # You can also put comments next to code that will run\n",
    "print('The sum of the squared values is')\n",
    "print(r)"
   ]
  },
  {
   "cell_type": "markdown",
   "id": "7539d2d6",
   "metadata": {},
   "source": [
    "Commenting your code is important in order to make it understandable. Complex programs can be hundreds or even thousands of lines long, and commenting what everything does makes it much easier for yourself and others to read the code in the future."
   ]
  },
  {
   "cell_type": "markdown",
   "id": "5a13d567",
   "metadata": {},
   "source": [
    "## Data types\n",
    "\n",
    "Let's get into some of the finer details of how Python understands what you are telling it to do. One of the first things you learned is how to add two numbers or two strings together. But what happens if you try to add a string with a number? Run the following snippet:"
   ]
  },
  {
   "cell_type": "code",
   "execution_count": null,
   "id": "da4865d6",
   "metadata": {},
   "outputs": [],
   "source": [
    "# The variable a is holding a number\n",
    "print(a)\n",
    "\n",
    "# The variable completeSentence is holding a string\n",
    "print(complete_sentence)\n",
    "\n",
    "# What happens when we add them together?\n",
    "experiment = a + complete_sentence\n",
    "\n",
    "# Let's print the result.\n",
    "print(experiment)"
   ]
  },
  {
   "cell_type": "markdown",
   "id": "c80442af",
   "metadata": {},
   "source": [
    "You should have gotten an error - `TypeError: unsupported operand type(s) for +: 'int' and 'str'`\n",
    "\n",
    "This error means that the `+` operator doesn't work between strings and numbers. There are two important details to pay attention to here. First, notice how it says `TypeError`, and second how it mentions 2 types, `int` and `str`. This is because in Python every value and variable has a **type**. A type describes what can and can't be done with a particular piece of data, and what that data represents.\n",
    "\n",
    "You can find out the type of a value or variable with the **`type()`** function. It takes as input any value or variable, and prints its type. There are many data types in Python, and you can even create your own! But for the moment, let's take a look at the main data types that we get out of the box."
   ]
  },
  {
   "cell_type": "markdown",
   "id": "11b72372",
   "metadata": {},
   "source": [
    "### `int` \n",
    "\n",
    "The `int` data type is used to represent integer numbers, both positive and negative. 5, -5, 1793, -78954 or any other number in which we don't need decimal values can be defined with an `int`:"
   ]
  },
  {
   "cell_type": "code",
   "execution_count": null,
   "id": "aa6bbfcd",
   "metadata": {},
   "outputs": [],
   "source": [
    "a = 3147483648777\n",
    "print(type(a))\n",
    "b = -36\n",
    "print(type(b))"
   ]
  },
  {
   "cell_type": "markdown",
   "id": "db8e0910",
   "metadata": {},
   "source": [
    "Notice how both of those values have type `int`. Also, notice how we used the `type()` function inside the `print()` function. A function inside a function! (Cool, huh?) When you do that, the order in which the functions run is from inside out: The innermost function runs first, and then outermost."
   ]
  },
  {
   "cell_type": "markdown",
   "id": "35a4b374",
   "metadata": {},
   "source": [
    "### `float`\n",
    "\n",
    "So what happens when we need numbers with decimals? In that case, we need the **`float`** data type. `float` can represent numbers with up to 16 digits of precision (this is called \"double-precision\"). Examples of `float` can be -12.5, 3/14, 7813.21629 or any other number with decimals:"
   ]
  },
  {
   "cell_type": "code",
   "execution_count": null,
   "id": "450478bd",
   "metadata": {},
   "outputs": [],
   "source": [
    "c = -65.452\n",
    "c_type = type(c)\n",
    "print(c_type)\n",
    "\n",
    "d = 1/6\n",
    "d_type = type(d)\n",
    "print(d_type)"
   ]
  },
  {
   "cell_type": "markdown",
   "id": "5d871b22",
   "metadata": {},
   "source": [
    "Contrary to what we found with strings and integers, integers and floats can operate between each other with mathematical operators. The result of such an operation is always a float:"
   ]
  },
  {
   "cell_type": "code",
   "execution_count": null,
   "id": "c518051f",
   "metadata": {},
   "outputs": [],
   "source": [
    "# Let's multiply b by d, which should result in -6.\n",
    "print(b * d)\n",
    "print(type(b*d))"
   ]
  },
  {
   "cell_type": "markdown",
   "id": "19ab6b56",
   "metadata": {},
   "source": [
    "Note how we didn't assign `b*d` to a variable but just used it directly inside `type()`. Operators inside functions inside functions! The same principle applies - the innermost operation is evaluated first, then the next function outwards, and then the next, and so on."
   ]
  },
  {
   "cell_type": "markdown",
   "id": "00790a27",
   "metadata": {},
   "source": [
    "### `str`\n",
    "\n",
    "The **`str`** type represents *strings*, which are ordered lists of characters, or as we know them in more common parlance, text values! Strings have their own set of operators and functions built into Python, but we will learn more about those in future cases. For the moment, let's remember that you can add them or *join* them with the `+` operator:"
   ]
  },
  {
   "cell_type": "code",
   "execution_count": null,
   "id": "f04f63c8",
   "metadata": {},
   "outputs": [],
   "source": [
    "more_text = 'Is this a String?'\n",
    "print(type(more_text))\n",
    "\n",
    "even_more_text = ' Seems it is.'\n",
    "\n",
    "final_text = more_text + even_more_text\n",
    "print(final_text)\n",
    "print(type(final_text))"
   ]
  },
  {
   "cell_type": "markdown",
   "id": "e45bcc3a",
   "metadata": {},
   "source": [
    "You can also find the length (i.e. number of characters) of a string with the `len()` function:"
   ]
  },
  {
   "cell_type": "code",
   "execution_count": null,
   "id": "2ece9ab2",
   "metadata": {},
   "outputs": [],
   "source": [
    "len(final_text)"
   ]
  },
  {
   "cell_type": "markdown",
   "id": "ecb88858",
   "metadata": {},
   "source": [
    "### `bool`\n",
    "\n",
    "The **`bool`** data type represents the logical values `True` and `False`, and cannot take on any other values:"
   ]
  },
  {
   "cell_type": "code",
   "execution_count": null,
   "id": "39e5d76f",
   "metadata": {},
   "outputs": [],
   "source": [
    "boolean_variable = True\n",
    "another_one = False\n",
    "print(type(boolean_variable))\n",
    "print(type(another_one))"
   ]
  },
  {
   "cell_type": "markdown",
   "id": "e4e8ffe6",
   "metadata": {},
   "source": [
    "As with strings and integers, you also can't add booleans and strings or booleans and integers. There are several operators for booleans values which we will learn later."
   ]
  },
  {
   "cell_type": "markdown",
   "id": "2ed25e37",
   "metadata": {},
   "source": [
    "### Combining and transforming data types\n",
    "\n",
    "If we can't add strings and booleans or integers and floats, how can we print them together in one line? One way could be using the trick we learnt before, separating the values inside the `print()` function with commas. For example:"
   ]
  },
  {
   "cell_type": "code",
   "execution_count": null,
   "id": "aadc3504",
   "metadata": {},
   "outputs": [],
   "source": [
    "a = 10\n",
    "b = 5\n",
    "print('The result of', a, 'divided by', b, 'is equal to', a/b)"
   ]
  },
  {
   "cell_type": "markdown",
   "id": "e026a227",
   "metadata": {},
   "source": [
    "Another way is to use what is known as the **`format()`** function. This takes a string, several numbers (of any numeric type), and outputs the string using those numbers. Here's the same example as before, using the `format()` function:"
   ]
  },
  {
   "cell_type": "code",
   "execution_count": null,
   "id": "c45e37e3",
   "metadata": {},
   "outputs": [],
   "source": [
    "a = 10\n",
    "b = 5\n",
    "print('The result of {} divided by {} is equal to {}'.format(a, b, a/b))"
   ]
  },
  {
   "cell_type": "markdown",
   "id": "d46f7bcc",
   "metadata": {},
   "source": [
    "Notice how we must place curly braces (`{}`) as placeholders for the actual numbers.\n",
    "\n",
    "Similar to `format()`, you can also use an **`f-string`**. This works by including the letter `f` before the first quotation mark in the `print()` function. Then you put any variables you want printed inside the curly braces and Python figures it out from there:"
   ]
  },
  {
   "cell_type": "code",
   "execution_count": null,
   "id": "e14818ce",
   "metadata": {},
   "outputs": [],
   "source": [
    "a = 10\n",
    "b = 5\n",
    "print(f'The result of {a} divided by {b} is equal to {a/b}')"
   ]
  },
  {
   "cell_type": "markdown",
   "id": "e3c150a4",
   "metadata": {},
   "source": [
    "The final way is by transforming the numbers into strings, and then adding them together. In order to transform a number into a string, we must use the `str()` function, which takes as input a non-string value or variable, and returns its string representation:"
   ]
  },
  {
   "cell_type": "code",
   "execution_count": null,
   "id": "fd4b0a47",
   "metadata": {},
   "outputs": [],
   "source": [
    "a = 10\n",
    "b = 5\n",
    "string_a = str(a)\n",
    "string_b = str(b)\n",
    "\n",
    "print(string_a)\n",
    "print(string_b)\n",
    "print(type(string_a))\n",
    "print(type(string_b))\n",
    "print('The result of ' + string_a + ' divided by ' + string_b + ' is equal to ' + str(a/b))"
   ]
  },
  {
   "cell_type": "markdown",
   "id": "374bd47c",
   "metadata": {},
   "source": [
    "You may use any of these methods. The more *pythonic* way, which basically means the more accepted way of doing so in Python, is with the `f-string`. But they all do the same thing and whichever way you prefer is fine. Typically the more *pythonic* way is the shortest way, but not always."
   ]
  },
  {
   "cell_type": "markdown",
   "id": "33fba2fe",
   "metadata": {},
   "source": [
    "The last method in which we transformed a variable from one type into another is very useful and should be kept in mind for the future. You can transform numbers into strings, but you could also transform strings with numbers in them into a numeric data type in order to operate on them. There are two main functions for this: the `int()` function, which gets as a parameter a string holding a number and returns its `int` representation, and the `float()` function, which does the same but returns a `float`. For example:"
   ]
  },
  {
   "cell_type": "code",
   "execution_count": null,
   "id": "100c426d",
   "metadata": {},
   "outputs": [],
   "source": [
    "a = '5'\n",
    "b = '12.57'\n",
    "\n",
    "int_a = int(a)\n",
    "float_b = float(b)\n",
    "\n",
    "print('The multiplication of a and b is equal to', int_a*float_b)\n"
   ]
  },
  {
   "cell_type": "markdown",
   "id": "073467c2",
   "metadata": {},
   "source": [
    "If you use the `int()` function with a string that has a number with decimal places, it will return an error:"
   ]
  },
  {
   "cell_type": "code",
   "execution_count": null,
   "id": "44612440",
   "metadata": {},
   "outputs": [],
   "source": [
    "int_b = int(b)"
   ]
  },
  {
   "cell_type": "markdown",
   "id": "b1bb5fa0",
   "metadata": {},
   "source": [
    "If you apply `int()` to a float, it will extract the integer part of it only (the part before the decimal point):"
   ]
  },
  {
   "cell_type": "code",
   "execution_count": null,
   "id": "e4ee89ba",
   "metadata": {},
   "outputs": [],
   "source": [
    "some_float = 15.99\n",
    "print(int(some_float))"
   ]
  },
  {
   "cell_type": "markdown",
   "id": "21381225",
   "metadata": {},
   "source": [
    "You can also transform booleans using these same functions. The `int` representation of `True` is 1 and of `False` is 0. You can also transform them into strings with `str()`:"
   ]
  },
  {
   "cell_type": "code",
   "execution_count": null,
   "id": "23147198",
   "metadata": {},
   "outputs": [],
   "source": [
    "true_value = True\n",
    "print('The value of the true_value variable is '+(str(True)))\n",
    "\n",
    "false_variable = False\n",
    "\n",
    "print('True is evaluated as a {} and False is evaluated as a {} when transformed to ints'.format(int(true_value), int(false_variable)))"
   ]
  },
  {
   "cell_type": "markdown",
   "id": "de811c5a",
   "metadata": {},
   "source": [
    "### Exercise 5\n",
    "\n",
    "Below, you will find several variables with values of different types assigned to them. Write code that:\n",
    "\n",
    "1. Transforms each variable to the correct numeric type\n",
    "2. Adds them together\n",
    "3. Assigns the result of the addition to a new variable\n",
    "4. Transforms this new variable to a string data type\n",
    "5. Prints this string along with the phrase written below"
   ]
  },
  {
   "cell_type": "code",
   "execution_count": null,
   "id": "d5d3b211",
   "metadata": {},
   "outputs": [],
   "source": [
    "a = True\n",
    "b = '12'\n",
    "c = '5.67'\n",
    "\n",
    "# Transform these variables to a numeric data type and add them together\n",
    "\n",
    "# Now, transform the result to a string. Make sure to assign the result to a new variable!\n",
    "\n",
    "# Finally, print your result by editing the following print statement. Do not use a new print statement!\n",
    "\n",
    "print('The result of the addition was...')"
   ]
  },
  {
   "cell_type": "markdown",
   "id": "10b85f53",
   "metadata": {
    "tags": [
     "ans_st"
    ]
   },
   "source": [
    "**Answer.**"
   ]
  },
  {
   "cell_type": "markdown",
   "id": "6c8a4da4",
   "metadata": {},
   "source": [
    "-------"
   ]
  },
  {
   "cell_type": "markdown",
   "id": "98e8b41b",
   "metadata": {},
   "source": [
    "## Compound data types\n",
    "\n",
    "You now know about the basic data types in Python. There is another important kind of data type which we have not mentioned yet - **compound types**. These are data types that combine several values into one single variable, hence the name *compound*.\n",
    "\n",
    "As with the basic data types, there are several kinds of compound types. The two most common are the **list** and the **dictionary**. For this case, we will check out lists and how they work in Python."
   ]
  },
  {
   "cell_type": "markdown",
   "id": "609529ee",
   "metadata": {},
   "source": [
    "### Lists\n",
    "\n",
    "The list is a group of values (typically but not necessarily of the same data type) which are grouped together in a specific order. In Python, we say that a *list* has a group of *items* or *elements*.\n",
    "\n",
    "The syntax for defining a list is simple - place your group of values inside squares brackets and separated by commas, like this:"
   ]
  },
  {
   "cell_type": "code",
   "execution_count": null,
   "id": "b03a1e3d",
   "metadata": {},
   "outputs": [],
   "source": [
    "[1,2,3,4,5,6]"
   ]
  },
  {
   "cell_type": "markdown",
   "id": "299ba9a2",
   "metadata": {},
   "source": [
    "We just created a list with 6 `int` values. Lists can be assigned to a variable, just the same as with the basic data types:"
   ]
  },
  {
   "cell_type": "code",
   "execution_count": null,
   "id": "b433794b",
   "metadata": {},
   "outputs": [],
   "source": [
    "our_list = [1,2,3,4,5,6]\n",
    "print(our_list)"
   ]
  },
  {
   "cell_type": "markdown",
   "id": "2b9f906a",
   "metadata": {},
   "source": [
    "Lists can hold any number of values, and the values can be of any type. It's considered bad form to mix more than one data type in a single list, but there are some exceptions:"
   ]
  },
  {
   "cell_type": "code",
   "execution_count": null,
   "id": "d9e79974",
   "metadata": {},
   "outputs": [],
   "source": [
    "another_list = [True,'two',3.54, 4]\n",
    "print(another_list)"
   ]
  },
  {
   "cell_type": "markdown",
   "id": "11220e0d",
   "metadata": {},
   "source": [
    "In the following cases, you will learn about all the ways in which you can use lists."
   ]
  },
  {
   "cell_type": "markdown",
   "id": "65bbde3b",
   "metadata": {},
   "source": [
    "## Creating and running non-notebook Python programs\n",
    "\n",
    "For our last lesson in this case, we will learn how to create non-notebook Python programs and how to use them. While Jupyter notebooks are good for learning and sharing methods and results, they are not as efficient or usable outside of their own little environment.\n",
    "\n",
    "Python programs (also called **scripts**) typically have the `.py` file format. As we explained in Case 0.1, code is nothing more than a text file that your computer can read. So, all we need to do is create a new text file and name it with the `.py` extension at the end.\n",
    "\n",
    "Create a new text file that is in the same folder as this case's notebook. Name it `hello_world.py`:\n",
    "\n",
    "![New File](data/images/newFile.png)"
   ]
  },
  {
   "cell_type": "markdown",
   "id": "32afd33a",
   "metadata": {},
   "source": [
    "Now, copy the snippet of text in the following code cell and paste it inside the text file you created, then save it:"
   ]
  },
  {
   "cell_type": "code",
   "execution_count": null,
   "id": "37d251f5",
   "metadata": {},
   "outputs": [],
   "source": [
    "print('Hello World!') "
   ]
  },
  {
   "cell_type": "markdown",
   "id": "d2c46aed",
   "metadata": {},
   "source": [
    "Finally, using your Terminal navigate to the folder where you saved `hello_world.py`, and then run the command:\n",
    "\n",
    "`python hello_world.py`\n",
    "\n",
    "You should now be seeing \"Hello World!\" in your Terminal! In general, all you need to do to run Python scripts is to type `python [name_of_the_script].py`:"
   ]
  },
  {
   "cell_type": "markdown",
   "id": "a03a9ecf",
   "metadata": {},
   "source": [
    "![Hello World!](data/images/helloWorld.png)"
   ]
  },
  {
   "cell_type": "markdown",
   "id": "4828546c",
   "metadata": {},
   "source": [
    "Seem familiar?\n",
    "\n",
    "You can even export a notebook as a Python script. All you need to do is to go to \"File -> Download as -> Python (.py)\". This will turn your notebook into a runnable script. All the text in Markdown cells will be transformed into comments, and all the code will be copied exactly as is:\n",
    "\n",
    "![Export](data/images/export.png)"
   ]
  },
  {
   "cell_type": "markdown",
   "id": "6e4e0129",
   "metadata": {},
   "source": [
    "## Conclusion\n",
    "\n",
    "In this case you learned about the four core building blocks of Python. You also saw a couple of the most important syntax rules in Python, the most common data types in Python, and how to transform one data type to another.\n",
    "\n",
    "You finished by learning about lists (a compound data type) and how to create or export pure Python scripts outside of a notebook.\n",
    "\n",
    "In the following cases you will learn more about these data types and how to operate with them. Congratulations on making it this far! Soon enough, you will be a Python expert."
   ]
  },
  {
   "cell_type": "markdown",
   "id": "b8e4d6b3",
   "metadata": {},
   "source": [
    "## Attribution\n",
    "\n",
    "\"HelloWorld.svg\", Dec 13, 2009, Wooptoo, Public Domain, https://en.wikipedia.org/wiki/File:HelloWorld.svg"
   ]
  }
 ],
 "metadata": {
  "c1_recart": "7.29.0-57c20131aabc1dc2a8c675852d80a7da",
  "kernelspec": {
   "display_name": "Python 3",
   "language": "python",
   "name": "python3"
  },
  "language_info": {
   "codemirror_mode": {
    "name": "ipython",
    "version": 3
   },
   "file_extension": ".py",
   "mimetype": "text/x-python",
   "name": "python",
   "nbconvert_exporter": "python",
   "pygments_lexer": "ipython3",
   "version": "3.8.12"
  }
 },
 "nbformat": 4,
 "nbformat_minor": 5
}
